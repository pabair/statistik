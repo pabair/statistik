{
 "cells": [
  {
   "cell_type": "markdown",
   "metadata": {},
   "source": [
    "## Verteilungen von Zufallsvariablen"
   ]
  },
  {
   "cell_type": "markdown",
   "metadata": {},
   "source": [
    "### 1. Gleichverteilte Zufallszahlen im Standardintervall "
   ]
  },
  {
   "cell_type": "markdown",
   "metadata": {},
   "source": [
    "Zu Beginn erzeugen wir 1 000 000 gleichverteilte Zufallszahlen im Intervall [0,1] mit der Methode `random()`. Eine solche Methode ist in jeder Programmischersprache vorhanden (z.B. `Math.random()` in Java)."
   ]
  },
  {
   "cell_type": "code",
   "execution_count": 8,
   "metadata": {},
   "outputs": [],
   "source": [
    "import random\n",
    "\n",
    "random_numbers = []\n",
    "for i in range(0, 1000000):\n",
    "    r = random.random()\n",
    "    random_numbers.append(r)"
   ]
  },
  {
   "cell_type": "markdown",
   "metadata": {},
   "source": [
    "Wir schauen uns die ersten zehn dieser Zufallszahlen an:"
   ]
  },
  {
   "cell_type": "code",
   "execution_count": 9,
   "metadata": {},
   "outputs": [
    {
     "name": "stdout",
     "output_type": "stream",
     "text": [
      "[0.060683641715705394, 0.8152895719880092, 0.9361984780810972, 0.2534576826902615, 0.5994717139446554, 0.4613398278025719, 0.5878405837302201, 0.36071638259853567, 0.9725695505132089, 0.7341709174912223]\n"
     ]
    }
   ],
   "source": [
    "print(random_numbers[:10])"
   ]
  },
  {
   "cell_type": "markdown",
   "metadata": {},
   "source": [
    "Als nächstes zählen wir wie viele dieser Zahlen jeweils in den Intervallen [0.1, 0.2, ..., 0.9] liegen und schauen uns das in einem Plot an:"
   ]
  },
  {
   "cell_type": "code",
   "execution_count": 10,
   "metadata": {},
   "outputs": [
    {
     "data": {
      "image/png": "[encoded data removed]",
      "text/plain": [
       "<Figure size 432x288 with 1 Axes>"
      ]
     },
     "metadata": {
      "needs_background": "light"
     },
     "output_type": "display_data"
    }
   ],
   "source": [
    "import matplotlib.pyplot as plt\n",
    "plt.hist(random_numbers, 10, rwidth=0.9)\n",
    "plt.show()"
   ]
  },
  {
   "cell_type": "markdown",
   "metadata": {},
   "source": [
    "Wie wir sehen sind die Daten annähernd gleichverteilt, d.h. in jedem Intervall liegen ca. 100 000 der generierten Datenpunkte."
   ]
  },
  {
   "cell_type": "markdown",
   "metadata": {},
   "source": [
    "### 2. Gleichverteilte Zufallszahlen im Intervall $a$ und $b$"
   ]
  },
  {
   "cell_type": "markdown",
   "metadata": {},
   "source": [
    "Um gleichverteilte Zufallszahlen in einem gewünschten Intervall $[a,b]$ zu erhalten, müssen wir die in Schritt 1 generierten Zufallszahlen wie folgt transformieren:"
   ]
  },
  {
   "cell_type": "code",
   "execution_count": 11,
   "metadata": {},
   "outputs": [],
   "source": [
    "a = 10\n",
    "b = 20\n",
    "ab_numbers = []\n",
    "for x in random_numbers:\n",
    "    r = x*(b-a)+a    # Transformation der Zufallszahl\n",
    "    ab_numbers.append(r)"
   ]
  },
  {
   "cell_type": "markdown",
   "metadata": {},
   "source": [
    "Wir schauen uns wieder die Verteilung an:"
   ]
  },
  {
   "cell_type": "code",
   "execution_count": 12,
   "metadata": {},
   "outputs": [
    {
     "data": {
      "image/png": "[encoded data removed]",
      "text/plain": [
       "<Figure size 432x288 with 1 Axes>"
      ]
     },
     "metadata": {
      "needs_background": "light"
     },
     "output_type": "display_data"
    }
   ],
   "source": [
    "plt.hist(ab_numbers, 10, rwidth=0.9)\n",
    "plt.xlim(a-10, b+10)\n",
    "plt.show()"
   ]
  },
  {
   "cell_type": "markdown",
   "metadata": {},
   "source": [
    "### 3. Exponentialverteilte Zufallszahlen"
   ]
  },
  {
   "cell_type": "markdown",
   "metadata": {},
   "source": [
    "Um exponentialverteilte Zufallszahlen mit gewünschtem Parameter $k$ zu erhalten, müssen wir die in Schritt 1 generierten Zufallszahlen wie folgt transformieren:"
   ]
  },
  {
   "cell_type": "code",
   "execution_count": 13,
   "metadata": {},
   "outputs": [],
   "source": [
    "import math\n",
    "\n",
    "k = 0.4\n",
    "exp_numbers = []\n",
    "for x in random_numbers:\n",
    "    r = -1/k*math.log(x)  # Transformation der Zufallszahl\n",
    "    exp_numbers.append(r)"
   ]
  },
  {
   "cell_type": "markdown",
   "metadata": {},
   "source": [
    "Wir schauen uns wieder die Verteilung an:"
   ]
  },
  {
   "cell_type": "code",
   "execution_count": 14,
   "metadata": {},
   "outputs": [
    {
     "data": {
      "image/png": "[encoded data removed]",
      "text/plain": [
       "<Figure size 432x288 with 1 Axes>"
      ]
     },
     "metadata": {
      "needs_background": "light"
     },
     "output_type": "display_data"
    }
   ],
   "source": [
    "plt.hist(exp_numbers, 100, rwidth=0.9)\n",
    "plt.xlim(0, 15)\n",
    "plt.show()"
   ]
  },
  {
   "cell_type": "code",
   "execution_count": null,
   "metadata": {},
   "outputs": [],
   "source": []
  }
 ],
 "metadata": {
  "kernelspec": {
   "display_name": "Python 3",
   "language": "python",
   "name": "python3"
  },
  "language_info": {
   "codemirror_mode": {
    "name": "ipython",
    "version": 3
   },
   "file_extension": ".py",
   "mimetype": "text/x-python",
   "name": "python",
   "nbconvert_exporter": "python",
   "pygments_lexer": "ipython3",
   "version": "3.8.5"
  }
 },
 "nbformat": 4,
 "nbformat_minor": 4
}
